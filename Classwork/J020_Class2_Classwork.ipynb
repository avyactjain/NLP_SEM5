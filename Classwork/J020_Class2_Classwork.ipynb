{
  "nbformat": 4,
  "nbformat_minor": 0,
  "metadata": {
    "colab": {
      "name": "J020_Class2_Classwork.ipynb",
      "provenance": [],
      "collapsed_sections": []
    },
    "kernelspec": {
      "name": "python3",
      "display_name": "Python 3"
    }
  },
  "cells": [
    {
      "cell_type": "code",
      "metadata": {
        "id": "0tI_kU_aUB9W",
        "colab_type": "code",
        "colab": {}
      },
      "source": [
        "import math\n",
        "import gzip\n",
        "from collections import Counter\n",
        "import pandas as pd\n",
        "import string\n",
        "import re"
      ],
      "execution_count": 0,
      "outputs": []
    },
    {
      "cell_type": "code",
      "metadata": {
        "id": "So9axFp7Ufm8",
        "colab_type": "code",
        "colab": {}
      },
      "source": [
        "url = 'http://snap.stanford.edu/data/amazon/productGraph/categoryFiles/reviews_Office_Products_5.json.gz' ##This is the file's url that we are reading."
      ],
      "execution_count": 0,
      "outputs": []
    },
    {
      "cell_type": "code",
      "metadata": {
        "id": "QROdBobPVj6Y",
        "colab_type": "code",
        "colab": {}
      },
      "source": [
        "df = pd.read_json(url, lines = True) ##Reading the file into a dataframe."
      ],
      "execution_count": 0,
      "outputs": []
    },
    {
      "cell_type": "code",
      "metadata": {
        "id": "Y1T2NMKNliof",
        "colab_type": "code",
        "colab": {}
      },
      "source": [
        "vow_consts = [] ##This list will be used to store dictionaries corresponding to word count for each reviewText"
      ],
      "execution_count": 0,
      "outputs": []
    },
    {
      "cell_type": "code",
      "metadata": {
        "id": "wzmzRQOCpjPl",
        "colab_type": "code",
        "colab": {}
      },
      "source": [
        "def get_consonants_vowel_count(sentence):\n",
        "  temp_dict = {}\n",
        "  vowels = 0\n",
        "  consonants = 0\n",
        "  total_letters = 0\n",
        "  numbers = ['0','1','2','3','4','5','6','7','8','9']\n",
        "\n",
        "  for i in sentence:\n",
        "    if(i == 'a' or i == 'e' or i == 'i' or i == 'o' or i == 'u'\n",
        "       or i == 'A' or i == 'E' or i == 'I' or i == 'O' or i == 'U'):\n",
        "        vowels = vowels + 1\n",
        "    elif (i not in numbers and i not in string.punctuation and i != ' ' ):\n",
        "        consonants = consonants + 1\n",
        "  \n",
        "  temp_dict['vowels'] = vowels\n",
        "  temp_dict['consonants'] = consonants\n",
        "  temp_dict['total_words'] = len(sentence.split(' '))\n",
        "\n",
        "  return(temp_dict)\n",
        "\n",
        "def remove_punctuations(sentence):\n",
        "  return sentence.translate(None, string.punctuation)\n",
        "\n",
        "def reg1(Sentence):\n",
        "  ##This function uses regex to find a sentences which start with B and ends with G\n",
        "  x = re.findall(r'\\b[Bb]\\w+',Sentence)\n",
        "  y = re.findall(r\"\\b\\w+[gG]\\b\",Sentence)\n",
        "  reg_d = {'starts with b': x,'ends with g': y}\n",
        "  return reg_d\n",
        "\n",
        "\n",
        "\n",
        "def reg2(Sentence):\n",
        "  #This function uses regex to find a sentence which does not start with B and not ends with g\n",
        "  x = re.findall(r'\\b\\w+[Bb]\\w+ ',Sentence)\n",
        "  y = re.findall(r' \\b\\w+[gG]\\w+\\b',Sentence)\n",
        "  reg_d1 = {' not starts with b': x,'not end with g':y}\n",
        "  return reg_d1\n",
        "\n"
      ],
      "execution_count": 0,
      "outputs": []
    },
    {
      "cell_type": "code",
      "metadata": {
        "id": "mnYW9cFQlnv7",
        "colab_type": "code",
        "colab": {}
      },
      "source": [
        "#The below loop iterates over every row of the df, splits the reviewText and stores the word count into a dictionary called temp dict, \n",
        "#temp dict is later appended to the list called 'frequency'\n",
        "for index,row in df.iterrows():\n",
        "  \n",
        "  review_string = (row['reviewText'])\n",
        "  temp_dict = get_consonants_vowel_count(review_string)\n",
        "  vow_consts.append(temp_dict)"
      ],
      "execution_count": 0,
      "outputs": []
    },
    {
      "cell_type": "code",
      "metadata": {
        "id": "gJtlIi4qmBjJ",
        "colab_type": "code",
        "colab": {}
      },
      "source": [
        "df['vow_consts'] = vow_consts "
      ],
      "execution_count": 0,
      "outputs": []
    },
    {
      "cell_type": "code",
      "metadata": {
        "id": "sqP7bFmimFUR",
        "colab_type": "code",
        "outputId": "a76cb0eb-e16e-4ffe-ce79-053ced90d1fa",
        "colab": {
          "base_uri": "https://localhost:8080/",
          "height": 459
        }
      },
      "source": [
        "df.head()"
      ],
      "execution_count": 11,
      "outputs": [
        {
          "output_type": "execute_result",
          "data": {
            "text/html": [
              "<div>\n",
              "<style scoped>\n",
              "    .dataframe tbody tr th:only-of-type {\n",
              "        vertical-align: middle;\n",
              "    }\n",
              "\n",
              "    .dataframe tbody tr th {\n",
              "        vertical-align: top;\n",
              "    }\n",
              "\n",
              "    .dataframe thead th {\n",
              "        text-align: right;\n",
              "    }\n",
              "</style>\n",
              "<table border=\"1\" class=\"dataframe\">\n",
              "  <thead>\n",
              "    <tr style=\"text-align: right;\">\n",
              "      <th></th>\n",
              "      <th>reviewerID</th>\n",
              "      <th>asin</th>\n",
              "      <th>reviewerName</th>\n",
              "      <th>helpful</th>\n",
              "      <th>reviewText</th>\n",
              "      <th>overall</th>\n",
              "      <th>summary</th>\n",
              "      <th>unixReviewTime</th>\n",
              "      <th>reviewTime</th>\n",
              "      <th>vow_consts</th>\n",
              "    </tr>\n",
              "  </thead>\n",
              "  <tbody>\n",
              "    <tr>\n",
              "      <th>0</th>\n",
              "      <td>A32T2H8150OJLU</td>\n",
              "      <td>B00000JBLH</td>\n",
              "      <td>ARH</td>\n",
              "      <td>[3, 4]</td>\n",
              "      <td>I bought my first HP12C in about 1984 or so, a...</td>\n",
              "      <td>5</td>\n",
              "      <td>A solid performer, and long time friend</td>\n",
              "      <td>1094169600</td>\n",
              "      <td>09 3, 2004</td>\n",
              "      <td>{'vowels': 279, 'consonants': 437, 'total_word...</td>\n",
              "    </tr>\n",
              "    <tr>\n",
              "      <th>1</th>\n",
              "      <td>A3MAFS04ZABRGO</td>\n",
              "      <td>B00000JBLH</td>\n",
              "      <td>Let it Be \"Alan\"</td>\n",
              "      <td>[7, 9]</td>\n",
              "      <td>WHY THIS BELATED REVIEW? I feel very obliged t...</td>\n",
              "      <td>5</td>\n",
              "      <td>Price of GOLD is up, so don't bury the golden ...</td>\n",
              "      <td>1197676800</td>\n",
              "      <td>12 15, 2007</td>\n",
              "      <td>{'vowels': 1504, 'consonants': 2685, 'total_wo...</td>\n",
              "    </tr>\n",
              "    <tr>\n",
              "      <th>2</th>\n",
              "      <td>A1F1A0QQP2XVH5</td>\n",
              "      <td>B00000JBLH</td>\n",
              "      <td>Mark B</td>\n",
              "      <td>[3, 3]</td>\n",
              "      <td>I have an HP 48GX that has been kicking for mo...</td>\n",
              "      <td>2</td>\n",
              "      <td>Good functionality, but not durable like old HPs</td>\n",
              "      <td>1293840000</td>\n",
              "      <td>01 1, 2011</td>\n",
              "      <td>{'vowels': 134, 'consonants': 235, 'total_word...</td>\n",
              "    </tr>\n",
              "    <tr>\n",
              "      <th>3</th>\n",
              "      <td>A49R5DBXXQDE5</td>\n",
              "      <td>B00000JBLH</td>\n",
              "      <td>R. D Johnson</td>\n",
              "      <td>[7, 8]</td>\n",
              "      <td>I've started doing more finance stuff recently...</td>\n",
              "      <td>5</td>\n",
              "      <td>One of the last of an almost extinct species</td>\n",
              "      <td>1145404800</td>\n",
              "      <td>04 19, 2006</td>\n",
              "      <td>{'vowels': 1089, 'consonants': 1775, 'total_wo...</td>\n",
              "    </tr>\n",
              "    <tr>\n",
              "      <th>4</th>\n",
              "      <td>A2XRMQA6PJ5ZJ8</td>\n",
              "      <td>B00000JBLH</td>\n",
              "      <td>Roger J. Buffington</td>\n",
              "      <td>[0, 0]</td>\n",
              "      <td>For simple calculations and discounted cash fl...</td>\n",
              "      <td>5</td>\n",
              "      <td>Still the best</td>\n",
              "      <td>1375574400</td>\n",
              "      <td>08 4, 2013</td>\n",
              "      <td>{'vowels': 208, 'consonants': 338, 'total_word...</td>\n",
              "    </tr>\n",
              "  </tbody>\n",
              "</table>\n",
              "</div>"
            ],
            "text/plain": [
              "       reviewerID  ...                                         vow_consts\n",
              "0  A32T2H8150OJLU  ...  {'vowels': 279, 'consonants': 437, 'total_word...\n",
              "1  A3MAFS04ZABRGO  ...  {'vowels': 1504, 'consonants': 2685, 'total_wo...\n",
              "2  A1F1A0QQP2XVH5  ...  {'vowels': 134, 'consonants': 235, 'total_word...\n",
              "3   A49R5DBXXQDE5  ...  {'vowels': 1089, 'consonants': 1775, 'total_wo...\n",
              "4  A2XRMQA6PJ5ZJ8  ...  {'vowels': 208, 'consonants': 338, 'total_word...\n",
              "\n",
              "[5 rows x 10 columns]"
            ]
          },
          "metadata": {
            "tags": []
          },
          "execution_count": 11
        }
      ]
    },
    {
      "cell_type": "code",
      "metadata": {
        "id": "f5FrHwhBmVOz",
        "colab_type": "code",
        "colab": {
          "base_uri": "https://localhost:8080/",
          "height": 34
        },
        "outputId": "8a70c22b-3953-4cec-e778-6305713f0204"
      },
      "source": [
        "df['vow_consts'][0]"
      ],
      "execution_count": 71,
      "outputs": [
        {
          "output_type": "execute_result",
          "data": {
            "text/plain": [
              "{'consonants': 437, 'total_words': 195, 'vowels': 279}"
            ]
          },
          "metadata": {
            "tags": []
          },
          "execution_count": 71
        }
      ]
    },
    {
      "cell_type": "code",
      "metadata": {
        "id": "1zGieZuBmnM0",
        "colab_type": "code",
        "colab": {}
      },
      "source": [
        "df['reg1'] = df.reviewText.apply(reg1)\n",
        "df['reg2'] = df.reviewText.apply(reg2)\n"
      ],
      "execution_count": 0,
      "outputs": []
    },
    {
      "cell_type": "code",
      "metadata": {
        "id": "TvEIKTZbmp4m",
        "colab_type": "code",
        "colab": {
          "base_uri": "https://localhost:8080/",
          "height": 544
        },
        "outputId": "768889a3-1242-4c13-9642-2581c9f26d98"
      },
      "source": [
        "df.head()"
      ],
      "execution_count": 13,
      "outputs": [
        {
          "output_type": "execute_result",
          "data": {
            "text/html": [
              "<div>\n",
              "<style scoped>\n",
              "    .dataframe tbody tr th:only-of-type {\n",
              "        vertical-align: middle;\n",
              "    }\n",
              "\n",
              "    .dataframe tbody tr th {\n",
              "        vertical-align: top;\n",
              "    }\n",
              "\n",
              "    .dataframe thead th {\n",
              "        text-align: right;\n",
              "    }\n",
              "</style>\n",
              "<table border=\"1\" class=\"dataframe\">\n",
              "  <thead>\n",
              "    <tr style=\"text-align: right;\">\n",
              "      <th></th>\n",
              "      <th>reviewerID</th>\n",
              "      <th>asin</th>\n",
              "      <th>reviewerName</th>\n",
              "      <th>helpful</th>\n",
              "      <th>reviewText</th>\n",
              "      <th>overall</th>\n",
              "      <th>summary</th>\n",
              "      <th>unixReviewTime</th>\n",
              "      <th>reviewTime</th>\n",
              "      <th>vow_consts</th>\n",
              "      <th>reg1</th>\n",
              "      <th>reg2</th>\n",
              "    </tr>\n",
              "  </thead>\n",
              "  <tbody>\n",
              "    <tr>\n",
              "      <th>0</th>\n",
              "      <td>A32T2H8150OJLU</td>\n",
              "      <td>B00000JBLH</td>\n",
              "      <td>ARH</td>\n",
              "      <td>[3, 4]</td>\n",
              "      <td>I bought my first HP12C in about 1984 or so, a...</td>\n",
              "      <td>5</td>\n",
              "      <td>A solid performer, and long time friend</td>\n",
              "      <td>1094169600</td>\n",
              "      <td>09 3, 2004</td>\n",
              "      <td>{'vowels': 279, 'consonants': 437, 'total_word...</td>\n",
              "      <td>{'starts with b': ['bought', 'but', 'by', 'buy...</td>\n",
              "      <td>{' not starts with b': ['about ', 'reliable ']...</td>\n",
              "    </tr>\n",
              "    <tr>\n",
              "      <th>1</th>\n",
              "      <td>A3MAFS04ZABRGO</td>\n",
              "      <td>B00000JBLH</td>\n",
              "      <td>Let it Be \"Alan\"</td>\n",
              "      <td>[7, 9]</td>\n",
              "      <td>WHY THIS BELATED REVIEW? I feel very obliged t...</td>\n",
              "      <td>5</td>\n",
              "      <td>Price of GOLD is up, so don't bury the golden ...</td>\n",
              "      <td>1197676800</td>\n",
              "      <td>12 15, 2007</td>\n",
              "      <td>{'vowels': 1504, 'consonants': 2685, 'total_wo...</td>\n",
              "      <td>{'starts with b': ['BELATED', 'burying', 'bran...</td>\n",
              "      <td>{' not starts with b': ['obliged ', 'about ', ...</td>\n",
              "    </tr>\n",
              "    <tr>\n",
              "      <th>2</th>\n",
              "      <td>A1F1A0QQP2XVH5</td>\n",
              "      <td>B00000JBLH</td>\n",
              "      <td>Mark B</td>\n",
              "      <td>[3, 3]</td>\n",
              "      <td>I have an HP 48GX that has been kicking for mo...</td>\n",
              "      <td>2</td>\n",
              "      <td>Good functionality, but not durable like old HPs</td>\n",
              "      <td>1293840000</td>\n",
              "      <td>01 1, 2011</td>\n",
              "      <td>{'vowels': 134, 'consonants': 235, 'total_word...</td>\n",
              "      <td>{'starts with b': ['been', 'But'], 'ends with ...</td>\n",
              "      <td>{' not starts with b': ['about ', 'number ', '...</td>\n",
              "    </tr>\n",
              "    <tr>\n",
              "      <th>3</th>\n",
              "      <td>A49R5DBXXQDE5</td>\n",
              "      <td>B00000JBLH</td>\n",
              "      <td>R. D Johnson</td>\n",
              "      <td>[7, 8]</td>\n",
              "      <td>I've started doing more finance stuff recently...</td>\n",
              "      <td>5</td>\n",
              "      <td>One of the last of an almost extinct species</td>\n",
              "      <td>1145404800</td>\n",
              "      <td>04 19, 2006</td>\n",
              "      <td>{'vowels': 1089, 'consonants': 1775, 'total_wo...</td>\n",
              "      <td>{'starts with b': ['been', 'because', 'but', '...</td>\n",
              "      <td>{' not starts with b': ['probably ', 'keyboard...</td>\n",
              "    </tr>\n",
              "    <tr>\n",
              "      <th>4</th>\n",
              "      <td>A2XRMQA6PJ5ZJ8</td>\n",
              "      <td>B00000JBLH</td>\n",
              "      <td>Roger J. Buffington</td>\n",
              "      <td>[0, 0]</td>\n",
              "      <td>For simple calculations and discounted cash fl...</td>\n",
              "      <td>5</td>\n",
              "      <td>Still the best</td>\n",
              "      <td>1375574400</td>\n",
              "      <td>08 4, 2013</td>\n",
              "      <td>{'vowels': 208, 'consonants': 338, 'total_word...</td>\n",
              "      <td>{'starts with b': ['best', 'business', 'but', ...</td>\n",
              "      <td>{' not starts with b': [], 'not end with g': [...</td>\n",
              "    </tr>\n",
              "  </tbody>\n",
              "</table>\n",
              "</div>"
            ],
            "text/plain": [
              "       reviewerID  ...                                               reg2\n",
              "0  A32T2H8150OJLU  ...  {' not starts with b': ['about ', 'reliable ']...\n",
              "1  A3MAFS04ZABRGO  ...  {' not starts with b': ['obliged ', 'about ', ...\n",
              "2  A1F1A0QQP2XVH5  ...  {' not starts with b': ['about ', 'number ', '...\n",
              "3   A49R5DBXXQDE5  ...  {' not starts with b': ['probably ', 'keyboard...\n",
              "4  A2XRMQA6PJ5ZJ8  ...  {' not starts with b': [], 'not end with g': [...\n",
              "\n",
              "[5 rows x 12 columns]"
            ]
          },
          "metadata": {
            "tags": []
          },
          "execution_count": 13
        }
      ]
    },
    {
      "cell_type": "code",
      "metadata": {
        "id": "i3-dtRkYj9vz",
        "colab_type": "code",
        "colab": {}
      },
      "source": [
        ""
      ],
      "execution_count": 0,
      "outputs": []
    },
    {
      "cell_type": "code",
      "metadata": {
        "id": "FznrjdUbnCJV",
        "colab_type": "code",
        "colab": {}
      },
      "source": [
        ""
      ],
      "execution_count": 0,
      "outputs": []
    },
    {
      "cell_type": "code",
      "metadata": {
        "id": "h_YD5E5ku9LJ",
        "colab_type": "code",
        "colab": {}
      },
      "source": [
        ""
      ],
      "execution_count": 0,
      "outputs": []
    },
    {
      "cell_type": "code",
      "metadata": {
        "id": "gQCQz7KIvDYb",
        "colab_type": "code",
        "colab": {
          "base_uri": "https://localhost:8080/",
          "height": 164
        },
        "outputId": "ead1c8d9-eed5-4147-c7f5-1801b143d53c"
      },
      "source": [
        ""
      ],
      "execution_count": 1,
      "outputs": [
        {
          "output_type": "error",
          "ename": "NameError",
          "evalue": "ignored",
          "traceback": [
            "\u001b[0;31m---------------------------------------------------------------------------\u001b[0m",
            "\u001b[0;31mNameError\u001b[0m                                 Traceback (most recent call last)",
            "\u001b[0;32m<ipython-input-1-abad56064b5f>\u001b[0m in \u001b[0;36m<module>\u001b[0;34m()\u001b[0m\n\u001b[0;32m----> 1\u001b[0;31m \u001b[0mcheck2\u001b[0m \u001b[0;34m=\u001b[0m \u001b[0mre\u001b[0m\u001b[0;34m.\u001b[0m\u001b[0mfindall\u001b[0m\u001b[0;34m(\u001b[0m\u001b[0;34mr\"\\b\\w+[gG]\\b\"\u001b[0m\u001b[0;34m,\u001b[0m \u001b[0mxx\u001b[0m\u001b[0;34m)\u001b[0m\u001b[0;34m\u001b[0m\u001b[0;34m\u001b[0m\u001b[0m\n\u001b[0m",
            "\u001b[0;31mNameError\u001b[0m: name 're' is not defined"
          ]
        }
      ]
    },
    {
      "cell_type": "code",
      "metadata": {
        "id": "aOYGBgRGyrWw",
        "colab_type": "code",
        "colab": {}
      },
      "source": [
        ""
      ],
      "execution_count": 0,
      "outputs": []
    },
    {
      "cell_type": "code",
      "metadata": {
        "id": "qFZJ1zFTzVt2",
        "colab_type": "code",
        "colab": {}
      },
      "source": [
        "check"
      ],
      "execution_count": 0,
      "outputs": []
    },
    {
      "cell_type": "code",
      "metadata": {
        "id": "4LPxHhXx2BqB",
        "colab_type": "code",
        "colab": {}
      },
      "source": [
        ""
      ],
      "execution_count": 0,
      "outputs": []
    }
  ]
}